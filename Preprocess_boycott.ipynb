{
  "cells": [
    {
      "cell_type": "code",
      "execution_count": 1,
      "metadata": {
        "execution": {
          "iopub.execute_input": "2024-09-04T21:03:09.908428Z",
          "iopub.status.busy": "2024-09-04T21:03:09.907918Z",
          "iopub.status.idle": "2024-09-04T21:03:09.918291Z",
          "shell.execute_reply": "2024-09-04T21:03:09.916939Z",
          "shell.execute_reply.started": "2024-09-04T21:03:09.908335Z"
        },
        "id": "hxmMIJNg3tru",
        "trusted": true
      },
      "outputs": [],
      "source": [
        "import pandas as pd\n",
        "import re\n",
        "import nltk\n",
        "from nltk.corpus import stopwords\n",
        "from nltk.stem.porter import PorterStemmer\n",
        "from nltk.stem import WordNetLemmatizer\n",
        "from sklearn.preprocessing import LabelEncoder"
      ]
    },
    {
      "cell_type": "code",
      "execution_count": 2,
      "metadata": {
        "colab": {
          "base_uri": "https://localhost:8080/"
        },
        "execution": {
          "iopub.execute_input": "2024-09-04T21:03:11.126783Z",
          "iopub.status.busy": "2024-09-04T21:03:11.126316Z",
          "iopub.status.idle": "2024-09-04T21:03:11.155283Z",
          "shell.execute_reply": "2024-09-04T21:03:11.154140Z",
          "shell.execute_reply.started": "2024-09-04T21:03:11.126740Z"
        },
        "id": "R-tBk9OL3trv",
        "outputId": "c3188507-6535-4c9d-abdf-dfbefc25bdae",
        "trusted": true
      },
      "outputs": [
        {
          "name": "stdout",
          "output_type": "stream",
          "text": [
            "<class 'pandas.core.frame.DataFrame'>\n",
            "RangeIndex: 67 entries, 0 to 66\n",
            "Data columns (total 5 columns):\n",
            " #   Column        Non-Null Count  Dtype \n",
            "---  ------        --------------  ----- \n",
            " 0   product_name  67 non-null     object\n",
            " 1   category      67 non-null     object\n",
            " 2   description   67 non-null     object\n",
            " 3   country       67 non-null     object\n",
            " 4   brand         67 non-null     object\n",
            "dtypes: object(5)\n",
            "memory usage: 2.7+ KB\n"
          ]
        }
      ],
      "source": [
        "data = pd.read_csv(\"Boycott.csv\")\n",
        "data.info()\n"
      ]
    },
    {
      "cell_type": "code",
      "execution_count": 3,
      "metadata": {
        "colab": {
          "base_uri": "https://localhost:8080/",
          "height": 206
        },
        "execution": {
          "iopub.execute_input": "2024-09-04T21:04:23.114057Z",
          "iopub.status.busy": "2024-09-04T21:04:23.113574Z",
          "iopub.status.idle": "2024-09-04T21:04:23.212943Z",
          "shell.execute_reply": "2024-09-04T21:04:23.211775Z",
          "shell.execute_reply.started": "2024-09-04T21:04:23.114013Z"
        },
        "id": "fApkTY5_3trz",
        "outputId": "6dcef08b-8c26-495d-bbce-b92f6a82cf47",
        "trusted": true
      },
      "outputs": [
        {
          "data": {
            "text/html": [
              "<div>\n",
              "<style scoped>\n",
              "    .dataframe tbody tr th:only-of-type {\n",
              "        vertical-align: middle;\n",
              "    }\n",
              "\n",
              "    .dataframe tbody tr th {\n",
              "        vertical-align: top;\n",
              "    }\n",
              "\n",
              "    .dataframe thead th {\n",
              "        text-align: right;\n",
              "    }\n",
              "</style>\n",
              "<table border=\"1\" class=\"dataframe\">\n",
              "  <thead>\n",
              "    <tr style=\"text-align: right;\">\n",
              "      <th></th>\n",
              "      <th>product_name</th>\n",
              "      <th>category</th>\n",
              "      <th>description</th>\n",
              "      <th>country</th>\n",
              "      <th>brand</th>\n",
              "    </tr>\n",
              "  </thead>\n",
              "  <tbody>\n",
              "    <tr>\n",
              "      <th>0</th>\n",
              "      <td>Bisco Misr Maamoul</td>\n",
              "      <td>biscuit</td>\n",
              "      <td>cookies date or nut filling biscuit</td>\n",
              "      <td>EG</td>\n",
              "      <td>Bisco Food Industries</td>\n",
              "    </tr>\n",
              "    <tr>\n",
              "      <th>1</th>\n",
              "      <td>Oreo Original Sandwich Cookies</td>\n",
              "      <td>biscuit</td>\n",
              "      <td>chocolate sandwich cookies vanilla cream center</td>\n",
              "      <td>USA</td>\n",
              "      <td>Mondelez International</td>\n",
              "    </tr>\n",
              "    <tr>\n",
              "      <th>2</th>\n",
              "      <td>Fine Foods Chicken Broth Cubes</td>\n",
              "      <td>broth</td>\n",
              "      <td>chicken bouillon cubes concentrated flavor cub...</td>\n",
              "      <td>EG</td>\n",
              "      <td>Fine Foods</td>\n",
              "    </tr>\n",
              "    <tr>\n",
              "      <th>3</th>\n",
              "      <td>Maggi Chicken Broth Cubes</td>\n",
              "      <td>broth</td>\n",
              "      <td>umami bouillon cubes hydrolyzed vegetable prot...</td>\n",
              "      <td>CH</td>\n",
              "      <td>Nestle</td>\n",
              "    </tr>\n",
              "    <tr>\n",
              "      <th>4</th>\n",
              "      <td>Americana Foul Medames Fava Beans</td>\n",
              "      <td>canned foods</td>\n",
              "      <td>pre cooked fava beans spiced tomato sauce g cans</td>\n",
              "      <td>KW</td>\n",
              "      <td>Americana</td>\n",
              "    </tr>\n",
              "  </tbody>\n",
              "</table>\n",
              "</div>"
            ],
            "text/plain": [
              "                        product_name      category  \\\n",
              "0                 Bisco Misr Maamoul       biscuit   \n",
              "1     Oreo Original Sandwich Cookies       biscuit   \n",
              "2     Fine Foods Chicken Broth Cubes         broth   \n",
              "3          Maggi Chicken Broth Cubes         broth   \n",
              "4  Americana Foul Medames Fava Beans  canned foods   \n",
              "\n",
              "                                         description country  \\\n",
              "0                cookies date or nut filling biscuit      EG   \n",
              "1    chocolate sandwich cookies vanilla cream center     USA   \n",
              "2  chicken bouillon cubes concentrated flavor cub...      EG   \n",
              "3  umami bouillon cubes hydrolyzed vegetable prot...      CH   \n",
              "4   pre cooked fava beans spiced tomato sauce g cans      KW   \n",
              "\n",
              "                    brand  \n",
              "0   Bisco Food Industries  \n",
              "1  Mondelez International  \n",
              "2              Fine Foods  \n",
              "3                  Nestle  \n",
              "4               Americana  "
            ]
          },
          "execution_count": 3,
          "metadata": {},
          "output_type": "execute_result"
        }
      ],
      "source": [
        "def Clean(Text):\n",
        "    sms = re.sub('[^a-zA-Z]', ' ', Text) \n",
        "    sms = sms.lower()\n",
        "    sms = sms.split()\n",
        "    sms = ' '.join(sms)\n",
        "    return sms\n",
        "\n",
        "data[\"description\"] = data[\"description\"].apply(Clean)\n",
        "data.head(5)"
      ]
    },
    {
      "cell_type": "code",
      "execution_count": 4,
      "metadata": {
        "colab": {
          "base_uri": "https://localhost:8080/",
          "height": 275
        },
        "execution": {
          "iopub.execute_input": "2024-09-04T21:05:20.370084Z",
          "iopub.status.busy": "2024-09-04T21:05:20.369618Z",
          "iopub.status.idle": "2024-09-04T21:05:21.703269Z",
          "shell.execute_reply": "2024-09-04T21:05:21.701973Z",
          "shell.execute_reply.started": "2024-09-04T21:05:20.370040Z"
        },
        "id": "o_iapOaa3tr0",
        "outputId": "1634543f-27f3-49f3-b6ca-1f6ff7508111",
        "trusted": true
      },
      "outputs": [
        {
          "data": {
            "text/html": [
              "<div>\n",
              "<style scoped>\n",
              "    .dataframe tbody tr th:only-of-type {\n",
              "        vertical-align: middle;\n",
              "    }\n",
              "\n",
              "    .dataframe tbody tr th {\n",
              "        vertical-align: top;\n",
              "    }\n",
              "\n",
              "    .dataframe thead th {\n",
              "        text-align: right;\n",
              "    }\n",
              "</style>\n",
              "<table border=\"1\" class=\"dataframe\">\n",
              "  <thead>\n",
              "    <tr style=\"text-align: right;\">\n",
              "      <th></th>\n",
              "      <th>product_name</th>\n",
              "      <th>category</th>\n",
              "      <th>description</th>\n",
              "      <th>country</th>\n",
              "      <th>brand</th>\n",
              "    </tr>\n",
              "  </thead>\n",
              "  <tbody>\n",
              "    <tr>\n",
              "      <th>0</th>\n",
              "      <td>Bisco Misr Maamoul</td>\n",
              "      <td>biscuit</td>\n",
              "      <td>[cookies, date, or, nut, filling, biscuit]</td>\n",
              "      <td>EG</td>\n",
              "      <td>Bisco Food Industries</td>\n",
              "    </tr>\n",
              "    <tr>\n",
              "      <th>1</th>\n",
              "      <td>Oreo Original Sandwich Cookies</td>\n",
              "      <td>biscuit</td>\n",
              "      <td>[chocolate, sandwich, cookies, vanilla, cream,...</td>\n",
              "      <td>USA</td>\n",
              "      <td>Mondelez International</td>\n",
              "    </tr>\n",
              "    <tr>\n",
              "      <th>2</th>\n",
              "      <td>Fine Foods Chicken Broth Cubes</td>\n",
              "      <td>broth</td>\n",
              "      <td>[chicken, bouillon, cubes, concentrated, flavo...</td>\n",
              "      <td>EG</td>\n",
              "      <td>Fine Foods</td>\n",
              "    </tr>\n",
              "    <tr>\n",
              "      <th>3</th>\n",
              "      <td>Maggi Chicken Broth Cubes</td>\n",
              "      <td>broth</td>\n",
              "      <td>[umami, bouillon, cubes, hydrolyzed, vegetable...</td>\n",
              "      <td>CH</td>\n",
              "      <td>Nestle</td>\n",
              "    </tr>\n",
              "    <tr>\n",
              "      <th>4</th>\n",
              "      <td>Americana Foul Medames Fava Beans</td>\n",
              "      <td>canned foods</td>\n",
              "      <td>[pre, cooked, fava, beans, spiced, tomato, sau...</td>\n",
              "      <td>KW</td>\n",
              "      <td>Americana</td>\n",
              "    </tr>\n",
              "  </tbody>\n",
              "</table>\n",
              "</div>"
            ],
            "text/plain": [
              "                        product_name      category  \\\n",
              "0                 Bisco Misr Maamoul       biscuit   \n",
              "1     Oreo Original Sandwich Cookies       biscuit   \n",
              "2     Fine Foods Chicken Broth Cubes         broth   \n",
              "3          Maggi Chicken Broth Cubes         broth   \n",
              "4  Americana Foul Medames Fava Beans  canned foods   \n",
              "\n",
              "                                         description country  \\\n",
              "0         [cookies, date, or, nut, filling, biscuit]      EG   \n",
              "1  [chocolate, sandwich, cookies, vanilla, cream,...     USA   \n",
              "2  [chicken, bouillon, cubes, concentrated, flavo...      EG   \n",
              "3  [umami, bouillon, cubes, hydrolyzed, vegetable...      CH   \n",
              "4  [pre, cooked, fava, beans, spiced, tomato, sau...      KW   \n",
              "\n",
              "                    brand  \n",
              "0   Bisco Food Industries  \n",
              "1  Mondelez International  \n",
              "2              Fine Foods  \n",
              "3                  Nestle  \n",
              "4               Americana  "
            ]
          },
          "execution_count": 4,
          "metadata": {},
          "output_type": "execute_result"
        }
      ],
      "source": [
        "data[\"description\"]=data.apply(lambda row: nltk.word_tokenize(row[\"description\"]), axis=1)\n",
        "\n",
        "data.head(5)"
      ]
    },
    {
      "cell_type": "code",
      "execution_count": 5,
      "metadata": {
        "colab": {
          "base_uri": "https://localhost:8080/",
          "height": 312
        },
        "execution": {
          "iopub.execute_input": "2024-09-04T21:05:48.291118Z",
          "iopub.status.busy": "2024-09-04T21:05:48.290658Z",
          "iopub.status.idle": "2024-09-04T21:05:49.241289Z",
          "shell.execute_reply": "2024-09-04T21:05:49.239994Z",
          "shell.execute_reply.started": "2024-09-04T21:05:48.291074Z"
        },
        "id": "24sQlhAV3tr0",
        "outputId": "36c4e235-7be8-4413-d4d5-71f28bf81281",
        "trusted": true
      },
      "outputs": [
        {
          "name": "stderr",
          "output_type": "stream",
          "text": [
            "[nltk_data] Downloading package stopwords to\n",
            "[nltk_data]     C:\\Users\\user\\AppData\\Roaming\\nltk_data...\n",
            "[nltk_data]   Package stopwords is already up-to-date!\n"
          ]
        },
        {
          "data": {
            "text/html": [
              "<div>\n",
              "<style scoped>\n",
              "    .dataframe tbody tr th:only-of-type {\n",
              "        vertical-align: middle;\n",
              "    }\n",
              "\n",
              "    .dataframe tbody tr th {\n",
              "        vertical-align: top;\n",
              "    }\n",
              "\n",
              "    .dataframe thead th {\n",
              "        text-align: right;\n",
              "    }\n",
              "</style>\n",
              "<table border=\"1\" class=\"dataframe\">\n",
              "  <thead>\n",
              "    <tr style=\"text-align: right;\">\n",
              "      <th></th>\n",
              "      <th>product_name</th>\n",
              "      <th>category</th>\n",
              "      <th>description</th>\n",
              "      <th>country</th>\n",
              "      <th>brand</th>\n",
              "    </tr>\n",
              "  </thead>\n",
              "  <tbody>\n",
              "    <tr>\n",
              "      <th>0</th>\n",
              "      <td>Bisco Misr Maamoul</td>\n",
              "      <td>biscuit</td>\n",
              "      <td>[cookies, date, nut, filling, biscuit]</td>\n",
              "      <td>EG</td>\n",
              "      <td>Bisco Food Industries</td>\n",
              "    </tr>\n",
              "    <tr>\n",
              "      <th>1</th>\n",
              "      <td>Oreo Original Sandwich Cookies</td>\n",
              "      <td>biscuit</td>\n",
              "      <td>[chocolate, sandwich, cookies, vanilla, cream,...</td>\n",
              "      <td>USA</td>\n",
              "      <td>Mondelez International</td>\n",
              "    </tr>\n",
              "    <tr>\n",
              "      <th>2</th>\n",
              "      <td>Fine Foods Chicken Broth Cubes</td>\n",
              "      <td>broth</td>\n",
              "      <td>[chicken, bouillon, cubes, concentrated, flavo...</td>\n",
              "      <td>EG</td>\n",
              "      <td>Fine Foods</td>\n",
              "    </tr>\n",
              "    <tr>\n",
              "      <th>3</th>\n",
              "      <td>Maggi Chicken Broth Cubes</td>\n",
              "      <td>broth</td>\n",
              "      <td>[umami, bouillon, cubes, hydrolyzed, vegetable...</td>\n",
              "      <td>CH</td>\n",
              "      <td>Nestle</td>\n",
              "    </tr>\n",
              "    <tr>\n",
              "      <th>4</th>\n",
              "      <td>Americana Foul Medames Fava Beans</td>\n",
              "      <td>canned foods</td>\n",
              "      <td>[pre, cooked, fava, beans, spiced, tomato, sau...</td>\n",
              "      <td>KW</td>\n",
              "      <td>Americana</td>\n",
              "    </tr>\n",
              "  </tbody>\n",
              "</table>\n",
              "</div>"
            ],
            "text/plain": [
              "                        product_name      category  \\\n",
              "0                 Bisco Misr Maamoul       biscuit   \n",
              "1     Oreo Original Sandwich Cookies       biscuit   \n",
              "2     Fine Foods Chicken Broth Cubes         broth   \n",
              "3          Maggi Chicken Broth Cubes         broth   \n",
              "4  Americana Foul Medames Fava Beans  canned foods   \n",
              "\n",
              "                                         description country  \\\n",
              "0             [cookies, date, nut, filling, biscuit]      EG   \n",
              "1  [chocolate, sandwich, cookies, vanilla, cream,...     USA   \n",
              "2  [chicken, bouillon, cubes, concentrated, flavo...      EG   \n",
              "3  [umami, bouillon, cubes, hydrolyzed, vegetable...      CH   \n",
              "4  [pre, cooked, fava, beans, spiced, tomato, sau...      KW   \n",
              "\n",
              "                    brand  \n",
              "0   Bisco Food Industries  \n",
              "1  Mondelez International  \n",
              "2              Fine Foods  \n",
              "3                  Nestle  \n",
              "4               Americana  "
            ]
          },
          "execution_count": 5,
          "metadata": {},
          "output_type": "execute_result"
        }
      ],
      "source": [
        "nltk.download('stopwords')\n",
        "def remove_stopwords(text):\n",
        "    stop_words = set(stopwords.words(\"english\"))\n",
        "    filtered_text = [word for word in text if word not in stop_words]\n",
        "    return filtered_text\n",
        "\n",
        "data[\"description\"] = data[\"description\"].apply(remove_stopwords)\n",
        "\n",
        "data.head(5)"
      ]
    },
    {
      "cell_type": "code",
      "execution_count": 6,
      "metadata": {
        "colab": {
          "base_uri": "https://localhost:8080/",
          "height": 435
        },
        "execution": {
          "iopub.execute_input": "2024-09-04T21:07:47.579139Z",
          "iopub.status.busy": "2024-09-04T21:07:47.578644Z",
          "iopub.status.idle": "2024-09-04T21:08:27.929323Z",
          "shell.execute_reply": "2024-09-04T21:08:27.927277Z",
          "shell.execute_reply.started": "2024-09-04T21:07:47.579096Z"
        },
        "id": "vXE3ASX-3tr1",
        "outputId": "4be083ab-376d-4610-e418-f6b40984f6ac",
        "trusted": true
      },
      "outputs": [
        {
          "data": {
            "text/html": [
              "<div>\n",
              "<style scoped>\n",
              "    .dataframe tbody tr th:only-of-type {\n",
              "        vertical-align: middle;\n",
              "    }\n",
              "\n",
              "    .dataframe tbody tr th {\n",
              "        vertical-align: top;\n",
              "    }\n",
              "\n",
              "    .dataframe thead th {\n",
              "        text-align: right;\n",
              "    }\n",
              "</style>\n",
              "<table border=\"1\" class=\"dataframe\">\n",
              "  <thead>\n",
              "    <tr style=\"text-align: right;\">\n",
              "      <th></th>\n",
              "      <th>product_name</th>\n",
              "      <th>category</th>\n",
              "      <th>description</th>\n",
              "      <th>country</th>\n",
              "      <th>brand</th>\n",
              "    </tr>\n",
              "  </thead>\n",
              "  <tbody>\n",
              "    <tr>\n",
              "      <th>0</th>\n",
              "      <td>Bisco Misr Maamoul</td>\n",
              "      <td>biscuit</td>\n",
              "      <td>[cookies, date, nut, fill, biscuit]</td>\n",
              "      <td>EG</td>\n",
              "      <td>Bisco Food Industries</td>\n",
              "    </tr>\n",
              "    <tr>\n",
              "      <th>1</th>\n",
              "      <td>Oreo Original Sandwich Cookies</td>\n",
              "      <td>biscuit</td>\n",
              "      <td>[chocolate, sandwich, cookies, vanilla, cream,...</td>\n",
              "      <td>USA</td>\n",
              "      <td>Mondelez International</td>\n",
              "    </tr>\n",
              "    <tr>\n",
              "      <th>2</th>\n",
              "      <td>Fine Foods Chicken Broth Cubes</td>\n",
              "      <td>broth</td>\n",
              "      <td>[chicken, bouillon, cub, concentrate, flavor, ...</td>\n",
              "      <td>EG</td>\n",
              "      <td>Fine Foods</td>\n",
              "    </tr>\n",
              "    <tr>\n",
              "      <th>3</th>\n",
              "      <td>Maggi Chicken Broth Cubes</td>\n",
              "      <td>broth</td>\n",
              "      <td>[umami, bouillon, cub, hydrolyze, vegetable, p...</td>\n",
              "      <td>CH</td>\n",
              "      <td>Nestle</td>\n",
              "    </tr>\n",
              "    <tr>\n",
              "      <th>4</th>\n",
              "      <td>Americana Foul Medames Fava Beans</td>\n",
              "      <td>canned foods</td>\n",
              "      <td>[pre, cook, fava, bean, spice, tomato, sauce, ...</td>\n",
              "      <td>KW</td>\n",
              "      <td>Americana</td>\n",
              "    </tr>\n",
              "  </tbody>\n",
              "</table>\n",
              "</div>"
            ],
            "text/plain": [
              "                        product_name      category  \\\n",
              "0                 Bisco Misr Maamoul       biscuit   \n",
              "1     Oreo Original Sandwich Cookies       biscuit   \n",
              "2     Fine Foods Chicken Broth Cubes         broth   \n",
              "3          Maggi Chicken Broth Cubes         broth   \n",
              "4  Americana Foul Medames Fava Beans  canned foods   \n",
              "\n",
              "                                         description country  \\\n",
              "0                [cookies, date, nut, fill, biscuit]      EG   \n",
              "1  [chocolate, sandwich, cookies, vanilla, cream,...     USA   \n",
              "2  [chicken, bouillon, cub, concentrate, flavor, ...      EG   \n",
              "3  [umami, bouillon, cub, hydrolyze, vegetable, p...      CH   \n",
              "4  [pre, cook, fava, bean, spice, tomato, sauce, ...      KW   \n",
              "\n",
              "                    brand  \n",
              "0   Bisco Food Industries  \n",
              "1  Mondelez International  \n",
              "2              Fine Foods  \n",
              "3                  Nestle  \n",
              "4               Americana  "
            ]
          },
          "execution_count": 6,
          "metadata": {},
          "output_type": "execute_result"
        }
      ],
      "source": [
        "import nltk\n",
        "\n",
        "lemmatizer = WordNetLemmatizer()\n",
        "def lemmatize_word(text):\n",
        "    lemmas = [lemmatizer.lemmatize(word, pos ='v') for word in text]\n",
        "    return lemmas\n",
        "\n",
        "data[\"description\"] = data[\"description\"].apply(lemmatize_word)\n",
        "data.head(5)"
      ]
    },
    {
      "cell_type": "code",
      "execution_count": 7,
      "metadata": {
        "colab": {
          "base_uri": "https://localhost:8080/"
        },
        "execution": {
          "iopub.execute_input": "2021-07-05T06:56:03.305657Z",
          "iopub.status.busy": "2021-07-05T06:56:03.305402Z",
          "iopub.status.idle": "2021-07-05T06:56:03.32037Z",
          "shell.execute_reply": "2021-07-05T06:56:03.319549Z",
          "shell.execute_reply.started": "2021-07-05T06:56:03.305634Z"
        },
        "id": "IbVYVNXa3tr1",
        "outputId": "f1e7c3ef-6713-452e-ebe1-2bc356dbc82b",
        "trusted": true
      },
      "outputs": [],
      "source": [
        "corpus= []\n",
        "for i in data[\"description\"]:\n",
        "    msg = ' '.join([row for row in i])\n",
        "    corpus.append(msg)\n",
        "data['description'] = corpus"
      ]
    },
    {
      "cell_type": "code",
      "execution_count": 8,
      "metadata": {},
      "outputs": [],
      "source": [
        "data.to_csv(\"cleaned_Boycott.csv\", index=False)     "
      ]
    }
  ],
  "metadata": {
    "colab": {
      "provenance": []
    },
    "kaggle": {
      "accelerator": "none",
      "dataSources": [
        {
          "datasetId": 5645837,
          "sourceId": 9320533,
          "sourceType": "datasetVersion"
        }
      ],
      "dockerImageVersionId": 30761,
      "isGpuEnabled": false,
      "isInternetEnabled": false,
      "language": "python",
      "sourceType": "notebook"
    },
    "kernelspec": {
      "display_name": "py310_env",
      "language": "python",
      "name": "python3"
    },
    "language_info": {
      "codemirror_mode": {
        "name": "ipython",
        "version": 3
      },
      "file_extension": ".py",
      "mimetype": "text/x-python",
      "name": "python",
      "nbconvert_exporter": "python",
      "pygments_lexer": "ipython3",
      "version": "3.10.16"
    }
  },
  "nbformat": 4,
  "nbformat_minor": 0
}
