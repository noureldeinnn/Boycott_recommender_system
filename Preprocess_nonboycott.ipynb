{
  "cells": [
    {
      "cell_type": "code",
      "execution_count": 1,
      "metadata": {
        "execution": {
          "iopub.execute_input": "2024-09-04T21:03:09.908428Z",
          "iopub.status.busy": "2024-09-04T21:03:09.907918Z",
          "iopub.status.idle": "2024-09-04T21:03:09.918291Z",
          "shell.execute_reply": "2024-09-04T21:03:09.916939Z",
          "shell.execute_reply.started": "2024-09-04T21:03:09.908335Z"
        },
        "id": "hxmMIJNg3tru",
        "trusted": true
      },
      "outputs": [],
      "source": [
        "import pandas as pd\n",
        "import re\n",
        "import nltk\n",
        "from nltk.corpus import stopwords\n",
        "from nltk.stem.porter import PorterStemmer\n",
        "from nltk.stem import WordNetLemmatizer\n",
        "from sklearn.preprocessing import LabelEncoder"
      ]
    },
    {
      "cell_type": "code",
      "execution_count": 2,
      "metadata": {
        "colab": {
          "base_uri": "https://localhost:8080/"
        },
        "execution": {
          "iopub.execute_input": "2024-09-04T21:03:11.126783Z",
          "iopub.status.busy": "2024-09-04T21:03:11.126316Z",
          "iopub.status.idle": "2024-09-04T21:03:11.155283Z",
          "shell.execute_reply": "2024-09-04T21:03:11.154140Z",
          "shell.execute_reply.started": "2024-09-04T21:03:11.126740Z"
        },
        "id": "R-tBk9OL3trv",
        "outputId": "c3188507-6535-4c9d-abdf-dfbefc25bdae",
        "trusted": true
      },
      "outputs": [
        {
          "name": "stdout",
          "output_type": "stream",
          "text": [
            "<class 'pandas.core.frame.DataFrame'>\n",
            "RangeIndex: 47 entries, 0 to 46\n",
            "Data columns (total 5 columns):\n",
            " #   Column                                              Non-Null Count  Dtype \n",
            "---  ------                                              --------------  ----- \n",
            " 0   Corona Bimbo Hazelnut Cream Chocolate               47 non-null     object\n",
            " 1   biscuit                                             47 non-null     object\n",
            " 2   Chocolate bar with hazelnut cream filling. cookies  47 non-null     object\n",
            " 3   EG                                                  47 non-null     object\n",
            " 4   Corona                                              47 non-null     object\n",
            "dtypes: object(5)\n",
            "memory usage: 2.0+ KB\n"
          ]
        }
      ],
      "source": [
        "data = pd.read_csv(\"Non-Boycott.csv\")\n",
        "data.info()\n"
      ]
    },
    {
      "cell_type": "code",
      "execution_count": 3,
      "metadata": {
        "colab": {
          "base_uri": "https://localhost:8080/",
          "height": 206
        },
        "execution": {
          "iopub.execute_input": "2024-09-04T21:04:23.114057Z",
          "iopub.status.busy": "2024-09-04T21:04:23.113574Z",
          "iopub.status.idle": "2024-09-04T21:04:23.212943Z",
          "shell.execute_reply": "2024-09-04T21:04:23.211775Z",
          "shell.execute_reply.started": "2024-09-04T21:04:23.114013Z"
        },
        "id": "fApkTY5_3trz",
        "outputId": "6dcef08b-8c26-495d-bbce-b92f6a82cf47",
        "trusted": true
      },
      "outputs": [
        {
          "ename": "KeyError",
          "evalue": "'description'",
          "output_type": "error",
          "traceback": [
            "\u001b[1;31m---------------------------------------------------------------------------\u001b[0m",
            "\u001b[1;31mKeyError\u001b[0m                                  Traceback (most recent call last)",
            "File \u001b[1;32mc:\\Users\\user\\anaconda3\\envs\\py310_env\\lib\\site-packages\\pandas\\core\\indexes\\base.py:3805\u001b[0m, in \u001b[0;36mIndex.get_loc\u001b[1;34m(self, key)\u001b[0m\n\u001b[0;32m   3804\u001b[0m \u001b[38;5;28;01mtry\u001b[39;00m:\n\u001b[1;32m-> 3805\u001b[0m     \u001b[38;5;28;01mreturn\u001b[39;00m \u001b[38;5;28;43mself\u001b[39;49m\u001b[38;5;241;43m.\u001b[39;49m\u001b[43m_engine\u001b[49m\u001b[38;5;241;43m.\u001b[39;49m\u001b[43mget_loc\u001b[49m\u001b[43m(\u001b[49m\u001b[43mcasted_key\u001b[49m\u001b[43m)\u001b[49m\n\u001b[0;32m   3806\u001b[0m \u001b[38;5;28;01mexcept\u001b[39;00m \u001b[38;5;167;01mKeyError\u001b[39;00m \u001b[38;5;28;01mas\u001b[39;00m err:\n",
            "File \u001b[1;32mindex.pyx:167\u001b[0m, in \u001b[0;36mpandas._libs.index.IndexEngine.get_loc\u001b[1;34m()\u001b[0m\n",
            "File \u001b[1;32mindex.pyx:196\u001b[0m, in \u001b[0;36mpandas._libs.index.IndexEngine.get_loc\u001b[1;34m()\u001b[0m\n",
            "File \u001b[1;32mpandas\\\\_libs\\\\hashtable_class_helper.pxi:7081\u001b[0m, in \u001b[0;36mpandas._libs.hashtable.PyObjectHashTable.get_item\u001b[1;34m()\u001b[0m\n",
            "File \u001b[1;32mpandas\\\\_libs\\\\hashtable_class_helper.pxi:7089\u001b[0m, in \u001b[0;36mpandas._libs.hashtable.PyObjectHashTable.get_item\u001b[1;34m()\u001b[0m\n",
            "\u001b[1;31mKeyError\u001b[0m: 'description'",
            "\nThe above exception was the direct cause of the following exception:\n",
            "\u001b[1;31mKeyError\u001b[0m                                  Traceback (most recent call last)",
            "Cell \u001b[1;32mIn[3], line 8\u001b[0m\n\u001b[0;32m      5\u001b[0m     sms \u001b[38;5;241m=\u001b[39m \u001b[38;5;124m'\u001b[39m\u001b[38;5;124m \u001b[39m\u001b[38;5;124m'\u001b[39m\u001b[38;5;241m.\u001b[39mjoin(sms)\n\u001b[0;32m      6\u001b[0m     \u001b[38;5;28;01mreturn\u001b[39;00m sms\n\u001b[1;32m----> 8\u001b[0m data[\u001b[38;5;124m\"\u001b[39m\u001b[38;5;124mdescription\u001b[39m\u001b[38;5;124m\"\u001b[39m] \u001b[38;5;241m=\u001b[39m \u001b[43mdata\u001b[49m\u001b[43m[\u001b[49m\u001b[38;5;124;43m\"\u001b[39;49m\u001b[38;5;124;43mdescription\u001b[39;49m\u001b[38;5;124;43m\"\u001b[39;49m\u001b[43m]\u001b[49m\u001b[38;5;241m.\u001b[39mapply(Clean)\n\u001b[0;32m      9\u001b[0m data\u001b[38;5;241m.\u001b[39mhead(\u001b[38;5;241m5\u001b[39m)\n",
            "File \u001b[1;32mc:\\Users\\user\\anaconda3\\envs\\py310_env\\lib\\site-packages\\pandas\\core\\frame.py:4102\u001b[0m, in \u001b[0;36mDataFrame.__getitem__\u001b[1;34m(self, key)\u001b[0m\n\u001b[0;32m   4100\u001b[0m \u001b[38;5;28;01mif\u001b[39;00m \u001b[38;5;28mself\u001b[39m\u001b[38;5;241m.\u001b[39mcolumns\u001b[38;5;241m.\u001b[39mnlevels \u001b[38;5;241m>\u001b[39m \u001b[38;5;241m1\u001b[39m:\n\u001b[0;32m   4101\u001b[0m     \u001b[38;5;28;01mreturn\u001b[39;00m \u001b[38;5;28mself\u001b[39m\u001b[38;5;241m.\u001b[39m_getitem_multilevel(key)\n\u001b[1;32m-> 4102\u001b[0m indexer \u001b[38;5;241m=\u001b[39m \u001b[38;5;28;43mself\u001b[39;49m\u001b[38;5;241;43m.\u001b[39;49m\u001b[43mcolumns\u001b[49m\u001b[38;5;241;43m.\u001b[39;49m\u001b[43mget_loc\u001b[49m\u001b[43m(\u001b[49m\u001b[43mkey\u001b[49m\u001b[43m)\u001b[49m\n\u001b[0;32m   4103\u001b[0m \u001b[38;5;28;01mif\u001b[39;00m is_integer(indexer):\n\u001b[0;32m   4104\u001b[0m     indexer \u001b[38;5;241m=\u001b[39m [indexer]\n",
            "File \u001b[1;32mc:\\Users\\user\\anaconda3\\envs\\py310_env\\lib\\site-packages\\pandas\\core\\indexes\\base.py:3812\u001b[0m, in \u001b[0;36mIndex.get_loc\u001b[1;34m(self, key)\u001b[0m\n\u001b[0;32m   3807\u001b[0m     \u001b[38;5;28;01mif\u001b[39;00m \u001b[38;5;28misinstance\u001b[39m(casted_key, \u001b[38;5;28mslice\u001b[39m) \u001b[38;5;129;01mor\u001b[39;00m (\n\u001b[0;32m   3808\u001b[0m         \u001b[38;5;28misinstance\u001b[39m(casted_key, abc\u001b[38;5;241m.\u001b[39mIterable)\n\u001b[0;32m   3809\u001b[0m         \u001b[38;5;129;01mand\u001b[39;00m \u001b[38;5;28many\u001b[39m(\u001b[38;5;28misinstance\u001b[39m(x, \u001b[38;5;28mslice\u001b[39m) \u001b[38;5;28;01mfor\u001b[39;00m x \u001b[38;5;129;01min\u001b[39;00m casted_key)\n\u001b[0;32m   3810\u001b[0m     ):\n\u001b[0;32m   3811\u001b[0m         \u001b[38;5;28;01mraise\u001b[39;00m InvalidIndexError(key)\n\u001b[1;32m-> 3812\u001b[0m     \u001b[38;5;28;01mraise\u001b[39;00m \u001b[38;5;167;01mKeyError\u001b[39;00m(key) \u001b[38;5;28;01mfrom\u001b[39;00m\u001b[38;5;250m \u001b[39m\u001b[38;5;21;01merr\u001b[39;00m\n\u001b[0;32m   3813\u001b[0m \u001b[38;5;28;01mexcept\u001b[39;00m \u001b[38;5;167;01mTypeError\u001b[39;00m:\n\u001b[0;32m   3814\u001b[0m     \u001b[38;5;66;03m# If we have a listlike key, _check_indexing_error will raise\u001b[39;00m\n\u001b[0;32m   3815\u001b[0m     \u001b[38;5;66;03m#  InvalidIndexError. Otherwise we fall through and re-raise\u001b[39;00m\n\u001b[0;32m   3816\u001b[0m     \u001b[38;5;66;03m#  the TypeError.\u001b[39;00m\n\u001b[0;32m   3817\u001b[0m     \u001b[38;5;28mself\u001b[39m\u001b[38;5;241m.\u001b[39m_check_indexing_error(key)\n",
            "\u001b[1;31mKeyError\u001b[0m: 'description'"
          ]
        }
      ],
      "source": [
        "def Clean(Text):\n",
        "    sms = re.sub('[^a-zA-Z]', ' ', Text) \n",
        "    sms = sms.lower()\n",
        "    sms = sms.split()\n",
        "    sms = ' '.join(sms)\n",
        "    return sms\n",
        "\n",
        "data[\"description\"] = data[\"description\"].apply(Clean)\n",
        "data.head(5)"
      ]
    },
    {
      "cell_type": "code",
      "execution_count": null,
      "metadata": {
        "colab": {
          "base_uri": "https://localhost:8080/",
          "height": 275
        },
        "execution": {
          "iopub.execute_input": "2024-09-04T21:05:20.370084Z",
          "iopub.status.busy": "2024-09-04T21:05:20.369618Z",
          "iopub.status.idle": "2024-09-04T21:05:21.703269Z",
          "shell.execute_reply": "2024-09-04T21:05:21.701973Z",
          "shell.execute_reply.started": "2024-09-04T21:05:20.370040Z"
        },
        "id": "o_iapOaa3tr0",
        "outputId": "1634543f-27f3-49f3-b6ca-1f6ff7508111",
        "trusted": true
      },
      "outputs": [
        {
          "data": {
            "text/html": [
              "<div>\n",
              "<style scoped>\n",
              "    .dataframe tbody tr th:only-of-type {\n",
              "        vertical-align: middle;\n",
              "    }\n",
              "\n",
              "    .dataframe tbody tr th {\n",
              "        vertical-align: top;\n",
              "    }\n",
              "\n",
              "    .dataframe thead th {\n",
              "        text-align: right;\n",
              "    }\n",
              "</style>\n",
              "<table border=\"1\" class=\"dataframe\">\n",
              "  <thead>\n",
              "    <tr style=\"text-align: right;\">\n",
              "      <th></th>\n",
              "      <th>product_name</th>\n",
              "      <th>category</th>\n",
              "      <th>description</th>\n",
              "      <th>country</th>\n",
              "      <th>brand</th>\n",
              "    </tr>\n",
              "  </thead>\n",
              "  <tbody>\n",
              "    <tr>\n",
              "      <th>0</th>\n",
              "      <td>Corona Bimbo Hazelnut Cream Chocolate</td>\n",
              "      <td>biscuit</td>\n",
              "      <td>[chocolate, bar, with, hazelnut, cream, fillin...</td>\n",
              "      <td>EG</td>\n",
              "      <td>Corona</td>\n",
              "    </tr>\n",
              "    <tr>\n",
              "      <th>1</th>\n",
              "      <td>Dark Chocolate Digestives</td>\n",
              "      <td>biscuit</td>\n",
              "      <td>[digestive, biscuits, topped, with, a, layer, ...</td>\n",
              "      <td>EG</td>\n",
              "      <td>McVitie's</td>\n",
              "    </tr>\n",
              "    <tr>\n",
              "      <th>2</th>\n",
              "      <td>Original Digestives</td>\n",
              "      <td>biscuit</td>\n",
              "      <td>[whole, wheat, biscuits, with, a, lightly, swe...</td>\n",
              "      <td>EG</td>\n",
              "      <td>McVitie's</td>\n",
              "    </tr>\n",
              "    <tr>\n",
              "      <th>3</th>\n",
              "      <td>Weals Bulk Chicken Stock</td>\n",
              "      <td>broth</td>\n",
              "      <td>[bulk, chicken, stock, suitable, for, commerci...</td>\n",
              "      <td>EG</td>\n",
              "      <td>Weals Food</td>\n",
              "    </tr>\n",
              "    <tr>\n",
              "      <th>4</th>\n",
              "      <td>AMR Chickpeas</td>\n",
              "      <td>canned foods</td>\n",
              "      <td>[versatile, legumes, perfect, for, hummus, sal...</td>\n",
              "      <td>EG</td>\n",
              "      <td>Egypt</td>\n",
              "    </tr>\n",
              "  </tbody>\n",
              "</table>\n",
              "</div>"
            ],
            "text/plain": [
              "                            product_name      category  \\\n",
              "0  Corona Bimbo Hazelnut Cream Chocolate       biscuit   \n",
              "1              Dark Chocolate Digestives       biscuit   \n",
              "2                    Original Digestives       biscuit   \n",
              "3               Weals Bulk Chicken Stock         broth   \n",
              "4                          AMR Chickpeas  canned foods   \n",
              "\n",
              "                                         description country       brand  \n",
              "0  [chocolate, bar, with, hazelnut, cream, fillin...      EG      Corona  \n",
              "1  [digestive, biscuits, topped, with, a, layer, ...      EG   McVitie's  \n",
              "2  [whole, wheat, biscuits, with, a, lightly, swe...      EG   McVitie's  \n",
              "3  [bulk, chicken, stock, suitable, for, commerci...      EG  Weals Food  \n",
              "4  [versatile, legumes, perfect, for, hummus, sal...      EG       Egypt  "
            ]
          },
          "execution_count": 7,
          "metadata": {},
          "output_type": "execute_result"
        }
      ],
      "source": [
        "data[\"description\"]=data.apply(lambda row: nltk.word_tokenize(row[\"description\"]), axis=1)\n",
        "\n",
        "data.head(5)"
      ]
    },
    {
      "cell_type": "code",
      "execution_count": null,
      "metadata": {
        "colab": {
          "base_uri": "https://localhost:8080/",
          "height": 312
        },
        "execution": {
          "iopub.execute_input": "2024-09-04T21:05:48.291118Z",
          "iopub.status.busy": "2024-09-04T21:05:48.290658Z",
          "iopub.status.idle": "2024-09-04T21:05:49.241289Z",
          "shell.execute_reply": "2024-09-04T21:05:49.239994Z",
          "shell.execute_reply.started": "2024-09-04T21:05:48.291074Z"
        },
        "id": "24sQlhAV3tr0",
        "outputId": "36c4e235-7be8-4413-d4d5-71f28bf81281",
        "trusted": true
      },
      "outputs": [
        {
          "name": "stderr",
          "output_type": "stream",
          "text": [
            "[nltk_data] Downloading package stopwords to\n",
            "[nltk_data]     C:\\Users\\user\\AppData\\Roaming\\nltk_data...\n",
            "[nltk_data]   Package stopwords is already up-to-date!\n"
          ]
        },
        {
          "data": {
            "text/html": [
              "<div>\n",
              "<style scoped>\n",
              "    .dataframe tbody tr th:only-of-type {\n",
              "        vertical-align: middle;\n",
              "    }\n",
              "\n",
              "    .dataframe tbody tr th {\n",
              "        vertical-align: top;\n",
              "    }\n",
              "\n",
              "    .dataframe thead th {\n",
              "        text-align: right;\n",
              "    }\n",
              "</style>\n",
              "<table border=\"1\" class=\"dataframe\">\n",
              "  <thead>\n",
              "    <tr style=\"text-align: right;\">\n",
              "      <th></th>\n",
              "      <th>product_name</th>\n",
              "      <th>category</th>\n",
              "      <th>description</th>\n",
              "      <th>country</th>\n",
              "      <th>brand</th>\n",
              "    </tr>\n",
              "  </thead>\n",
              "  <tbody>\n",
              "    <tr>\n",
              "      <th>0</th>\n",
              "      <td>Corona Bimbo Hazelnut Cream Chocolate</td>\n",
              "      <td>biscuit</td>\n",
              "      <td>[chocolate, bar, hazelnut, cream, filling, coo...</td>\n",
              "      <td>EG</td>\n",
              "      <td>Corona</td>\n",
              "    </tr>\n",
              "    <tr>\n",
              "      <th>1</th>\n",
              "      <td>Dark Chocolate Digestives</td>\n",
              "      <td>biscuit</td>\n",
              "      <td>[digestive, biscuits, topped, layer, dark, cho...</td>\n",
              "      <td>EG</td>\n",
              "      <td>McVitie's</td>\n",
              "    </tr>\n",
              "    <tr>\n",
              "      <th>2</th>\n",
              "      <td>Original Digestives</td>\n",
              "      <td>biscuit</td>\n",
              "      <td>[whole, wheat, biscuits, lightly, sweet, crumb...</td>\n",
              "      <td>EG</td>\n",
              "      <td>McVitie's</td>\n",
              "    </tr>\n",
              "    <tr>\n",
              "      <th>3</th>\n",
              "      <td>Weals Bulk Chicken Stock</td>\n",
              "      <td>broth</td>\n",
              "      <td>[bulk, chicken, stock, suitable, commercial, k...</td>\n",
              "      <td>EG</td>\n",
              "      <td>Weals Food</td>\n",
              "    </tr>\n",
              "    <tr>\n",
              "      <th>4</th>\n",
              "      <td>AMR Chickpeas</td>\n",
              "      <td>canned foods</td>\n",
              "      <td>[versatile, legumes, perfect, hummus, salads, ...</td>\n",
              "      <td>EG</td>\n",
              "      <td>Egypt</td>\n",
              "    </tr>\n",
              "  </tbody>\n",
              "</table>\n",
              "</div>"
            ],
            "text/plain": [
              "                            product_name      category  \\\n",
              "0  Corona Bimbo Hazelnut Cream Chocolate       biscuit   \n",
              "1              Dark Chocolate Digestives       biscuit   \n",
              "2                    Original Digestives       biscuit   \n",
              "3               Weals Bulk Chicken Stock         broth   \n",
              "4                          AMR Chickpeas  canned foods   \n",
              "\n",
              "                                         description country       brand  \n",
              "0  [chocolate, bar, hazelnut, cream, filling, coo...      EG      Corona  \n",
              "1  [digestive, biscuits, topped, layer, dark, cho...      EG   McVitie's  \n",
              "2  [whole, wheat, biscuits, lightly, sweet, crumb...      EG   McVitie's  \n",
              "3  [bulk, chicken, stock, suitable, commercial, k...      EG  Weals Food  \n",
              "4  [versatile, legumes, perfect, hummus, salads, ...      EG       Egypt  "
            ]
          },
          "execution_count": 8,
          "metadata": {},
          "output_type": "execute_result"
        }
      ],
      "source": [
        "nltk.download('stopwords')\n",
        "def remove_stopwords(text):\n",
        "    stop_words = set(stopwords.words(\"english\"))\n",
        "    filtered_text = [word for word in text if word not in stop_words]\n",
        "    return filtered_text\n",
        "\n",
        "data[\"description\"] = data[\"description\"].apply(remove_stopwords)\n",
        "\n",
        "data.head(5)"
      ]
    },
    {
      "cell_type": "code",
      "execution_count": null,
      "metadata": {
        "colab": {
          "base_uri": "https://localhost:8080/",
          "height": 435
        },
        "execution": {
          "iopub.execute_input": "2024-09-04T21:07:47.579139Z",
          "iopub.status.busy": "2024-09-04T21:07:47.578644Z",
          "iopub.status.idle": "2024-09-04T21:08:27.929323Z",
          "shell.execute_reply": "2024-09-04T21:08:27.927277Z",
          "shell.execute_reply.started": "2024-09-04T21:07:47.579096Z"
        },
        "id": "vXE3ASX-3tr1",
        "outputId": "4be083ab-376d-4610-e418-f6b40984f6ac",
        "trusted": true
      },
      "outputs": [
        {
          "data": {
            "text/html": [
              "<div>\n",
              "<style scoped>\n",
              "    .dataframe tbody tr th:only-of-type {\n",
              "        vertical-align: middle;\n",
              "    }\n",
              "\n",
              "    .dataframe tbody tr th {\n",
              "        vertical-align: top;\n",
              "    }\n",
              "\n",
              "    .dataframe thead th {\n",
              "        text-align: right;\n",
              "    }\n",
              "</style>\n",
              "<table border=\"1\" class=\"dataframe\">\n",
              "  <thead>\n",
              "    <tr style=\"text-align: right;\">\n",
              "      <th></th>\n",
              "      <th>product_name</th>\n",
              "      <th>category</th>\n",
              "      <th>description</th>\n",
              "      <th>country</th>\n",
              "      <th>brand</th>\n",
              "    </tr>\n",
              "  </thead>\n",
              "  <tbody>\n",
              "    <tr>\n",
              "      <th>0</th>\n",
              "      <td>Corona Bimbo Hazelnut Cream Chocolate</td>\n",
              "      <td>biscuit</td>\n",
              "      <td>[chocolate, bar, hazelnut, cream, fill, cookies]</td>\n",
              "      <td>EG</td>\n",
              "      <td>Corona</td>\n",
              "    </tr>\n",
              "    <tr>\n",
              "      <th>1</th>\n",
              "      <td>Dark Chocolate Digestives</td>\n",
              "      <td>biscuit</td>\n",
              "      <td>[digestive, biscuits, top, layer, dark, chocol...</td>\n",
              "      <td>EG</td>\n",
              "      <td>McVitie's</td>\n",
              "    </tr>\n",
              "    <tr>\n",
              "      <th>2</th>\n",
              "      <td>Original Digestives</td>\n",
              "      <td>biscuit</td>\n",
              "      <td>[whole, wheat, biscuits, lightly, sweet, crumb...</td>\n",
              "      <td>EG</td>\n",
              "      <td>McVitie's</td>\n",
              "    </tr>\n",
              "    <tr>\n",
              "      <th>3</th>\n",
              "      <td>Weals Bulk Chicken Stock</td>\n",
              "      <td>broth</td>\n",
              "      <td>[bulk, chicken, stock, suitable, commercial, k...</td>\n",
              "      <td>EG</td>\n",
              "      <td>Weals Food</td>\n",
              "    </tr>\n",
              "    <tr>\n",
              "      <th>4</th>\n",
              "      <td>AMR Chickpeas</td>\n",
              "      <td>canned foods</td>\n",
              "      <td>[versatile, legumes, perfect, hummus, salads, ...</td>\n",
              "      <td>EG</td>\n",
              "      <td>Egypt</td>\n",
              "    </tr>\n",
              "  </tbody>\n",
              "</table>\n",
              "</div>"
            ],
            "text/plain": [
              "                            product_name      category  \\\n",
              "0  Corona Bimbo Hazelnut Cream Chocolate       biscuit   \n",
              "1              Dark Chocolate Digestives       biscuit   \n",
              "2                    Original Digestives       biscuit   \n",
              "3               Weals Bulk Chicken Stock         broth   \n",
              "4                          AMR Chickpeas  canned foods   \n",
              "\n",
              "                                         description country       brand  \n",
              "0   [chocolate, bar, hazelnut, cream, fill, cookies]      EG      Corona  \n",
              "1  [digestive, biscuits, top, layer, dark, chocol...      EG   McVitie's  \n",
              "2  [whole, wheat, biscuits, lightly, sweet, crumb...      EG   McVitie's  \n",
              "3  [bulk, chicken, stock, suitable, commercial, k...      EG  Weals Food  \n",
              "4  [versatile, legumes, perfect, hummus, salads, ...      EG       Egypt  "
            ]
          },
          "execution_count": 9,
          "metadata": {},
          "output_type": "execute_result"
        }
      ],
      "source": [
        "import nltk\n",
        "\n",
        "lemmatizer = WordNetLemmatizer()\n",
        "def lemmatize_word(text):\n",
        "    lemmas = [lemmatizer.lemmatize(word, pos ='v') for word in text]\n",
        "    return lemmas\n",
        "\n",
        "data[\"description\"] = data[\"description\"].apply(lemmatize_word)\n",
        "data.head(5)"
      ]
    },
    {
      "cell_type": "code",
      "execution_count": null,
      "metadata": {
        "colab": {
          "base_uri": "https://localhost:8080/"
        },
        "execution": {
          "iopub.execute_input": "2021-07-05T06:56:03.305657Z",
          "iopub.status.busy": "2021-07-05T06:56:03.305402Z",
          "iopub.status.idle": "2021-07-05T06:56:03.32037Z",
          "shell.execute_reply": "2021-07-05T06:56:03.319549Z",
          "shell.execute_reply.started": "2021-07-05T06:56:03.305634Z"
        },
        "id": "IbVYVNXa3tr1",
        "outputId": "f1e7c3ef-6713-452e-ebe1-2bc356dbc82b",
        "trusted": true
      },
      "outputs": [],
      "source": [
        "corpus= []\n",
        "for i in data[\"description\"]:\n",
        "    msg = ' '.join([row for row in i])\n",
        "    corpus.append(msg)\n",
        "data['description'] = corpus"
      ]
    },
    {
      "cell_type": "code",
      "execution_count": null,
      "metadata": {},
      "outputs": [],
      "source": [
        "data.to_csv(\"cleaned_Non-Boycott.csv\", index=False)     "
      ]
    }
  ],
  "metadata": {
    "colab": {
      "provenance": []
    },
    "kaggle": {
      "accelerator": "none",
      "dataSources": [
        {
          "datasetId": 5645837,
          "sourceId": 9320533,
          "sourceType": "datasetVersion"
        }
      ],
      "dockerImageVersionId": 30761,
      "isGpuEnabled": false,
      "isInternetEnabled": false,
      "language": "python",
      "sourceType": "notebook"
    },
    "kernelspec": {
      "display_name": "py310_env",
      "language": "python",
      "name": "python3"
    },
    "language_info": {
      "codemirror_mode": {
        "name": "ipython",
        "version": 3
      },
      "file_extension": ".py",
      "mimetype": "text/x-python",
      "name": "python",
      "nbconvert_exporter": "python",
      "pygments_lexer": "ipython3",
      "version": "3.10.16"
    }
  },
  "nbformat": 4,
  "nbformat_minor": 0
}
